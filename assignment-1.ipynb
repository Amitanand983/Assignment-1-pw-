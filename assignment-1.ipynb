{
 "cells": [
  {
   "cell_type": "markdown",
   "id": "16009e9f-c0b5-49ad-8686-c3b37549a75d",
   "metadata": {},
   "source": [
    "Question - 1"
   ]
  },
  {
   "cell_type": "code",
   "execution_count": 2,
   "id": "2aec8c45-2650-484a-a08b-90aaaa38209b",
   "metadata": {},
   "outputs": [
    {
     "data": {
      "text/plain": [
       "str"
      ]
     },
     "execution_count": 2,
     "metadata": {},
     "output_type": "execute_result"
    }
   ],
   "source": [
    "type(a)"
   ]
  },
  {
   "cell_type": "code",
   "execution_count": 1,
   "id": "cbf46f9d-8ffa-4434-9087-584882bf8451",
   "metadata": {},
   "outputs": [],
   "source": [
    "a = \"string\""
   ]
  },
  {
   "cell_type": "code",
   "execution_count": 3,
   "id": "95e87b27-8257-4022-8b82-a7cb54f52f43",
   "metadata": {},
   "outputs": [],
   "source": [
    "b = [ 1, 'meow', 3, 2.3 ]"
   ]
  },
  {
   "cell_type": "code",
   "execution_count": 4,
   "id": "7fabfa7f-245f-4956-9198-0da37f377bd5",
   "metadata": {},
   "outputs": [],
   "source": [
    "c = 3.03"
   ]
  },
  {
   "cell_type": "code",
   "execution_count": 5,
   "id": "b1f72109-8633-4c39-9279-6846829adcf9",
   "metadata": {},
   "outputs": [],
   "source": [
    "d = (3,4, 'march', 6.8 )"
   ]
  },
  {
   "cell_type": "markdown",
   "id": "6fa98bbd-7521-498b-8e2f-4431b926d66b",
   "metadata": {},
   "source": [
    "Question - 2"
   ]
  },
  {
   "cell_type": "code",
   "execution_count": 17,
   "id": "7a79395d-148d-4ece-9871-cb7fa13abc3a",
   "metadata": {},
   "outputs": [],
   "source": [
    "var1 = ''"
   ]
  },
  {
   "cell_type": "code",
   "execution_count": 7,
   "id": "ecc28927-bf25-4e0b-b76f-9a77f2ae0943",
   "metadata": {},
   "outputs": [
    {
     "data": {
      "text/plain": [
       "str"
      ]
     },
     "execution_count": 7,
     "metadata": {},
     "output_type": "execute_result"
    }
   ],
   "source": [
    "type(var1)"
   ]
  },
  {
   "cell_type": "code",
   "execution_count": 9,
   "id": "55a9fcb1-d32d-4f59-a710-3e82849f10c8",
   "metadata": {},
   "outputs": [],
   "source": [
    "var2 = '[ DS , ML , Python]'"
   ]
  },
  {
   "cell_type": "code",
   "execution_count": 10,
   "id": "c51125a9-f8f7-4249-9680-bcd25faa1ddf",
   "metadata": {},
   "outputs": [
    {
     "data": {
      "text/plain": [
       "str"
      ]
     },
     "execution_count": 10,
     "metadata": {},
     "output_type": "execute_result"
    }
   ],
   "source": [
    "type(var2)"
   ]
  },
  {
   "cell_type": "code",
   "execution_count": 13,
   "id": "af1c27ae-8970-41f9-a8a8-004969745e62",
   "metadata": {},
   "outputs": [],
   "source": [
    "var3 = [ 'DS' , 'ML' , 'Python' ]"
   ]
  },
  {
   "cell_type": "code",
   "execution_count": 14,
   "id": "7b432c43-58b2-448e-90be-e77c0126d5a4",
   "metadata": {},
   "outputs": [
    {
     "data": {
      "text/plain": [
       "list"
      ]
     },
     "execution_count": 14,
     "metadata": {},
     "output_type": "execute_result"
    }
   ],
   "source": [
    "type(var3)"
   ]
  },
  {
   "cell_type": "code",
   "execution_count": 15,
   "id": "155c6141-486c-4511-ae3e-0b2550f594d6",
   "metadata": {},
   "outputs": [],
   "source": [
    "var4 = 1."
   ]
  },
  {
   "cell_type": "code",
   "execution_count": 16,
   "id": "73d6c52c-a683-40a1-bd2e-1771d91b4674",
   "metadata": {},
   "outputs": [
    {
     "data": {
      "text/plain": [
       "float"
      ]
     },
     "execution_count": 16,
     "metadata": {},
     "output_type": "execute_result"
    }
   ],
   "source": [
    "type(var4)"
   ]
  },
  {
   "cell_type": "markdown",
   "id": "3e9c4cf3-fda5-4cc2-8fec-9eaa8f47eb3a",
   "metadata": {},
   "source": [
    "Question - 3"
   ]
  },
  {
   "cell_type": "code",
   "execution_count": 18,
   "id": "9b150cee-e3c4-46fc-9653-649b3a7ac339",
   "metadata": {},
   "outputs": [
    {
     "data": {
      "text/plain": [
       "1.3333333333333333"
      ]
     },
     "execution_count": 18,
     "metadata": {},
     "output_type": "execute_result"
    }
   ],
   "source": [
    "4/3  # \"/\" operator is used to give quotient in float format."
   ]
  },
  {
   "cell_type": "code",
   "execution_count": 19,
   "id": "8338d471-123e-4437-8c35-81b294f4b516",
   "metadata": {},
   "outputs": [
    {
     "data": {
      "text/plain": [
       "1"
      ]
     },
     "execution_count": 19,
     "metadata": {},
     "output_type": "execute_result"
    }
   ],
   "source": [
    "4%3  # \"%\" operator is used to give remainder "
   ]
  },
  {
   "cell_type": "code",
   "execution_count": 20,
   "id": "cdf4e10c-9d2d-4443-81fd-d1d5c7b29e05",
   "metadata": {},
   "outputs": [
    {
     "data": {
      "text/plain": [
       "1"
      ]
     },
     "execution_count": 20,
     "metadata": {},
     "output_type": "execute_result"
    }
   ],
   "source": [
    "4//3 # \"//\" operator is used to give quotient in int format(aka floor division)"
   ]
  },
  {
   "cell_type": "code",
   "execution_count": 21,
   "id": "ff11341c-c2b9-4abd-8128-024c208b1f48",
   "metadata": {},
   "outputs": [
    {
     "data": {
      "text/plain": [
       "64"
      ]
     },
     "execution_count": 21,
     "metadata": {},
     "output_type": "execute_result"
    }
   ],
   "source": [
    "4**3 # \"**\" is used to give power of (a,b) :- a to the power b "
   ]
  },
  {
   "cell_type": "code",
   "execution_count": 22,
   "id": "033de063-bd73-4e98-9748-a2eeea0e9b3c",
   "metadata": {},
   "outputs": [],
   "source": [
    "l = [2 , 'ring', 4.56, 56, 4+5j, True, False, 'smart', 79, 7.98 ]"
   ]
  },
  {
   "cell_type": "code",
   "execution_count": 28,
   "id": "e680f859-2300-46a3-bba8-ddb75dca1c23",
   "metadata": {},
   "outputs": [
    {
     "name": "stdout",
     "output_type": "stream",
     "text": [
      "Element 2  :-  <class 'int'>\n",
      "Element ring  :-  <class 'str'>\n",
      "Element 4.56  :-  <class 'float'>\n",
      "Element 56  :-  <class 'int'>\n",
      "Element (4+5j)  :-  <class 'complex'>\n",
      "Element True  :-  <class 'bool'>\n",
      "Element False  :-  <class 'bool'>\n",
      "Element smart  :-  <class 'str'>\n",
      "Element 79  :-  <class 'int'>\n",
      "Element 7.98  :-  <class 'float'>\n"
     ]
    }
   ],
   "source": [
    "for i in l:\n",
    "    print(\"Element\", i , \" :- \", type(i))"
   ]
  },
  {
   "cell_type": "code",
   "execution_count": 8,
   "id": "0e8510ea-9c20-427a-b895-b7fe3c6e273f",
   "metadata": {},
   "outputs": [
    {
     "name": "stdin",
     "output_type": "stream",
     "text": [
      " 12\n",
      " 2\n"
     ]
    },
    {
     "name": "stdout",
     "output_type": "stream",
     "text": [
      "number of times A divisible by B is 2\n"
     ]
    }
   ],
   "source": [
    "count = 0\n",
    "A= int(input())\n",
    "B= int(input())\n",
    "while True:\n",
    "    if A%B==0:\n",
    "        count+=1\n",
    "        A=A/B\n",
    "    else:\n",
    "        break\n",
    "print(r'number of times A divisible by B is',count)"
   ]
  },
  {
   "cell_type": "code",
   "execution_count": 6,
   "id": "4bc6cec9-5372-46db-a2cd-94b54a3249e3",
   "metadata": {},
   "outputs": [
    {
     "name": "stdout",
     "output_type": "stream",
     "text": [
      "Element -  1  - no\n",
      "Element -  2  - no\n",
      "Element -  3  - yes\n",
      "Element -  4  - no\n",
      "Element -  5  - no\n",
      "Element -  6  - yes\n",
      "Element -  7  - no\n",
      "Element -  8  - no\n",
      "Element -  9  - yes\n",
      "Element -  10  - no\n",
      "Element -  11  - no\n",
      "Element -  12  - yes\n",
      "Element -  13  - no\n",
      "Element -  14  - no\n",
      "Element -  15  - yes\n",
      "Element -  16  - no\n",
      "Element -  17  - no\n",
      "Element -  18  - yes\n",
      "Element -  19  - no\n",
      "Element -  20  - no\n",
      "Element -  21  - yes\n",
      "Element -  22  - no\n",
      "Element -  23  - no\n",
      "Element -  24  - yes\n",
      "Element -  25  - no\n"
     ]
    }
   ],
   "source": [
    "li = [1,2,3,4,5,6,7,8,9,10,11,12,13,14,15,16,17,18,19,20,21,22,23,24,25]\n",
    "for i in li :\n",
    "    if i%3 == 0:\n",
    "        print(\"Element - \", i ,\" - yes\")\n",
    "    else:\n",
    "        print(\"Element - \", i ,\" - no\")"
   ]
  },
  {
   "cell_type": "markdown",
   "id": "5ddbd915-3747-4cef-8ed9-1ec391a3e650",
   "metadata": {},
   "source": [
    "Question - (7)\n",
    "Mainly mutable data types are those data in which we can make changes through indexing while immutable data types can't have this this feature."
   ]
  },
  {
   "cell_type": "code",
   "execution_count": 11,
   "id": "a11fdeb4-f72c-4fc9-b806-37f71a722d0e",
   "metadata": {},
   "outputs": [],
   "source": [
    "string = \"amit\"  #immutable\n"
   ]
  },
  {
   "cell_type": "code",
   "execution_count": 12,
   "id": "6af65071-ada6-4d49-a73f-b3e5e9ec0e7e",
   "metadata": {},
   "outputs": [
    {
     "ename": "NameError",
     "evalue": "name 'H' is not defined",
     "output_type": "error",
     "traceback": [
      "\u001b[0;31m---------------------------------------------------------------------------\u001b[0m",
      "\u001b[0;31mNameError\u001b[0m                                 Traceback (most recent call last)",
      "Cell \u001b[0;32mIn[12], line 1\u001b[0m\n\u001b[0;32m----> 1\u001b[0m string[\u001b[38;5;241m3\u001b[39m]\u001b[38;5;241m=\u001b[39m\u001b[43mH\u001b[49m\n",
      "\u001b[0;31mNameError\u001b[0m: name 'H' is not defined"
     ]
    }
   ],
   "source": [
    "string[3]=H\n"
   ]
  },
  {
   "cell_type": "code",
   "execution_count": 13,
   "id": "0aa0e7c1-d6e5-48a8-8077-e0ac633694db",
   "metadata": {},
   "outputs": [],
   "source": [
    "list1 = [1,2,3] #mutable"
   ]
  },
  {
   "cell_type": "code",
   "execution_count": 14,
   "id": "d03cbf16-41d2-4351-a71e-36ed22d685a4",
   "metadata": {},
   "outputs": [],
   "source": [
    "list1[1]=4"
   ]
  },
  {
   "cell_type": "code",
   "execution_count": 15,
   "id": "c6c5ade4-3e73-4827-b4a6-8b6fd12c5908",
   "metadata": {},
   "outputs": [
    {
     "data": {
      "text/plain": [
       "[1, 4, 3]"
      ]
     },
     "execution_count": 15,
     "metadata": {},
     "output_type": "execute_result"
    }
   ],
   "source": [
    "list1"
   ]
  }
 ],
 "metadata": {
  "kernelspec": {
   "display_name": "Python 3 (ipykernel)",
   "language": "python",
   "name": "python3"
  },
  "language_info": {
   "codemirror_mode": {
    "name": "ipython",
    "version": 3
   },
   "file_extension": ".py",
   "mimetype": "text/x-python",
   "name": "python",
   "nbconvert_exporter": "python",
   "pygments_lexer": "ipython3",
   "version": "3.10.8"
  }
 },
 "nbformat": 4,
 "nbformat_minor": 5
}
